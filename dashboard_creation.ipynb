{
 "cells": [
  {
   "cell_type": "code",
   "execution_count": 33,
   "metadata": {},
   "outputs": [],
   "source": [
    "import pandas as pd\n",
    "import supabase\n",
    "from supabase import create_client, Client\n",
    "import plotly.express as px\n",
    "import streamlit as st"
   ]
  },
  {
   "cell_type": "code",
   "execution_count": 34,
   "metadata": {},
   "outputs": [],
   "source": [
    "def get_plays_data(table_name: str):\n",
    "    data = supabase.table(table_name).select('*').execute().data\n",
    "    df = pd.DataFrame(data)\n",
    "    df['created_at'] = df['created_at'].apply(lambda x: x.split('.')[0])\n",
    "    df['created_at'] = pd.to_datetime(df['created_at'])\n",
    "    \n",
    "    df['ses_start'] = df['created_at'] - pd.to_timedelta(df['duration'], unit='s')\n",
    "    df['ses_end'] = df['created_at']\n",
    "    \n",
    "    df = df.drop(columns=['created_at'])\n",
    "    return df[['id', 'ses_start', 'ses_end', 'duration', 'is_music']]"
   ]
  },
  {
   "cell_type": "code",
   "execution_count": 35,
   "metadata": {},
   "outputs": [],
   "source": [
    "url: str = st.secrets[\"SUPABASE_URL\"]\n",
    "key: str = st.secrets[\"SUPABASE_KEY\"]\n",
    "\n",
    "supabase: Client = create_client(url, key)"
   ]
  },
  {
   "cell_type": "code",
   "execution_count": 36,
   "metadata": {},
   "outputs": [],
   "source": [
    "df = get_plays_data('playTable')"
   ]
  },
  {
   "cell_type": "code",
   "execution_count": 38,
   "metadata": {},
   "outputs": [],
   "source": [
    "df_daily = df.groupby([df['ses_start'].dt.date, 'is_music'])[['duration']].sum()"
   ]
  },
  {
   "cell_type": "code",
   "execution_count": 41,
   "metadata": {},
   "outputs": [
    {
     "data": {
      "text/html": [
       "<div>\n",
       "<style scoped>\n",
       "    .dataframe tbody tr th:only-of-type {\n",
       "        vertical-align: middle;\n",
       "    }\n",
       "\n",
       "    .dataframe tbody tr th {\n",
       "        vertical-align: top;\n",
       "    }\n",
       "\n",
       "    .dataframe thead th {\n",
       "        text-align: right;\n",
       "    }\n",
       "</style>\n",
       "<table border=\"1\" class=\"dataframe\">\n",
       "  <thead>\n",
       "    <tr style=\"text-align: right;\">\n",
       "      <th></th>\n",
       "      <th>duration</th>\n",
       "      <th>is_music</th>\n",
       "      <th>duration_cumsum</th>\n",
       "    </tr>\n",
       "    <tr>\n",
       "      <th>ses_end</th>\n",
       "      <th></th>\n",
       "      <th></th>\n",
       "      <th></th>\n",
       "    </tr>\n",
       "  </thead>\n",
       "  <tbody>\n",
       "    <tr>\n",
       "      <th>2023-04-28 20:27:17</th>\n",
       "      <td>4</td>\n",
       "      <td>False</td>\n",
       "      <td>4</td>\n",
       "    </tr>\n",
       "    <tr>\n",
       "      <th>2023-04-28 20:27:44</th>\n",
       "      <td>19</td>\n",
       "      <td>True</td>\n",
       "      <td>19</td>\n",
       "    </tr>\n",
       "    <tr>\n",
       "      <th>2023-04-29 11:21:34</th>\n",
       "      <td>16</td>\n",
       "      <td>True</td>\n",
       "      <td>35</td>\n",
       "    </tr>\n",
       "    <tr>\n",
       "      <th>2023-04-29 11:22:07</th>\n",
       "      <td>29</td>\n",
       "      <td>True</td>\n",
       "      <td>64</td>\n",
       "    </tr>\n",
       "    <tr>\n",
       "      <th>2023-04-29 11:23:15</th>\n",
       "      <td>5</td>\n",
       "      <td>False</td>\n",
       "      <td>9</td>\n",
       "    </tr>\n",
       "  </tbody>\n",
       "</table>\n",
       "</div>"
      ],
      "text/plain": [
       "                     duration  is_music  duration_cumsum\n",
       "ses_end                                                 \n",
       "2023-04-28 20:27:17         4     False                4\n",
       "2023-04-28 20:27:44        19      True               19\n",
       "2023-04-29 11:21:34        16      True               35\n",
       "2023-04-29 11:22:07        29      True               64\n",
       "2023-04-29 11:23:15         5     False                9"
      ]
     },
     "execution_count": 41,
     "metadata": {},
     "output_type": "execute_result"
    }
   ],
   "source": [
    "df_cumsum = df[['ses_end', 'duration', 'is_music']].set_index('ses_end').sort_index()\n",
    "df_cumsum['duration_cumsum'] = df_cumsum.groupby('is_music')['duration'].cumsum()\n",
    "df_cumsum"
   ]
  },
  {
   "cell_type": "code",
   "execution_count": null,
   "metadata": {},
   "outputs": [],
   "source": []
  }
 ],
 "metadata": {
  "kernelspec": {
   "display_name": "esp32",
   "language": "python",
   "name": "python3"
  },
  "language_info": {
   "codemirror_mode": {
    "name": "ipython",
    "version": 3
   },
   "file_extension": ".py",
   "mimetype": "text/x-python",
   "name": "python",
   "nbconvert_exporter": "python",
   "pygments_lexer": "ipython3",
   "version": "3.10.9"
  },
  "orig_nbformat": 4
 },
 "nbformat": 4,
 "nbformat_minor": 2
}
